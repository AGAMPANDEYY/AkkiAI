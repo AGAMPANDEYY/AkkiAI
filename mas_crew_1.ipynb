{
 "cells": [
  {
   "cell_type": "markdown",
   "metadata": {},
   "source": [
    "## Solving \n",
    "\n",
    "Who Buys from you?\n",
    "1. Finding your target audience (Claude)\n",
    "2. Creating a Persona (Claude)\n",
    "2a) Questions for B2C Persona\n",
    "2b) Questions for B2B Persona\n",
    "3. Motivations and Reasons to buy Product/ Services\n",
    "4. Are they ready to buy?\n",
    "5. TG Analysis between multiple TGs\n"
   ]
  },
  {
   "cell_type": "code",
   "execution_count": null,
   "metadata": {
    "vscode": {
     "languageId": "plaintext"
    }
   },
   "outputs": [],
   "source": []
  }
 ],
 "metadata": {
  "language_info": {
   "name": "python"
  }
 },
 "nbformat": 4,
 "nbformat_minor": 2
}
